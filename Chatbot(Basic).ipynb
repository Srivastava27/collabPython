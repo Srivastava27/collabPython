{
  "nbformat": 4,
  "nbformat_minor": 0,
  "metadata": {
    "colab": {
      "provenance": [],
      "authorship_tag": "ABX9TyOcwdbGy29paF8Ea/BHHGYI",
      "include_colab_link": true
    },
    "kernelspec": {
      "name": "python3",
      "display_name": "Python 3"
    },
    "language_info": {
      "name": "python"
    }
  },
  "cells": [
    {
      "cell_type": "markdown",
      "metadata": {
        "id": "view-in-github",
        "colab_type": "text"
      },
      "source": [
        "<a href=\"https://colab.research.google.com/github/Srivastava27/collabPython/blob/master/Chatbot(Basic).ipynb\" target=\"_parent\"><img src=\"https://colab.research.google.com/assets/colab-badge.svg\" alt=\"Open In Colab\"/></a>"
      ]
    },
    {
      "cell_type": "code",
      "execution_count": 1,
      "metadata": {
        "id": "9C7AdYyji5Fo"
      },
      "outputs": [],
      "source": [
        "import re\n",
        "import random"
      ]
    },
    {
      "cell_type": "code",
      "source": [
        "class Rulebot:\n",
        "  negative_responses=(\"no\",\"nope\",\"nah\",\"naw\",\"not a chance\",\"sorry\")\n",
        "  exit_commands=(\"quit\",\"pause\",\"exit\",\"goodbye\",\"bye\",\"later\")\n",
        "  random_questions=(\n",
        "      \"why are you here?\",\n",
        "      \"How are you?\",\n",
        "      \"Howz your day going?\",\n",
        "      \"Are You feeling low?\",\n",
        "      \"What do you like to eat?\",\n",
        "      \"Is there intelligent life?\",\n",
        "      \"Does earth have a leader?\",\n",
        "      \"What planets have you visited yet?\",\n",
        "      \"What technology do you have?\"\n",
        "  )\n",
        "\n",
        "  def __init__(self):\n",
        "    self.alienbabble={\n",
        "        'describe_planet_intent': r'.*\\s*your planet.*',\n",
        "        'answer_why_intent': r'why\\sare.*',\n",
        "        'about_me': r'.*\\s*Intellipat'\n",
        "    }\n",
        "\n",
        "  def greet(self):\n",
        "    self.name=input(\"What is your name?\\n\")\n",
        "    will_help=input(\n",
        "        f\"Hi {self.name}, I am a Rule-Bot. Will You tell me more about your Yourself?\\n\")\n",
        "    if will_help in self.negative_responses:\n",
        "      print(\"OK, Have a nice day!\")\n",
        "      return\n",
        "    self.chat()\n",
        "\n",
        "  def make_exit(self,reply):\n",
        "    for command in self.exit_commands:\n",
        "      if reply==command:\n",
        "        print(\"Okay, have a nice day\")\n",
        "        return True\n",
        "\n",
        "  def chat(self):\n",
        "    reply=input(random.choice(self.random_questions)).lower()\n",
        "    while not self.make_exit(reply):\n",
        "      reply=input(self.match_reply(reply))\n",
        "\n",
        "\n",
        "  def match_reply(self,reply):\n",
        "    for key,value in self.alienbabble.items():\n",
        "      intent=key\n",
        "      regex_pattern=value\n",
        "      found_match=re.match(regex_pattern,reply)\n",
        "      if found_match and intent=='describe_planet_intent':\n",
        "        return self.describe_planet_intent()\n",
        "      elif found_match and intent=='answer_why_intent':\n",
        "        return self.answer_why_intent()\n",
        "      elif found_match and intent=='about_me':\n",
        "        return self.about_me()\n",
        "    if not found_match:\n",
        "      return self.no_match_intent()\n",
        "\n",
        "\n",
        "\n",
        "  def describe_planet_intent(self):\n",
        "    responses=(\"My planet is a utopia of diverse organisms and species.\\n\",\n",
        "               \"I am from opidious , the capital of the wayward galaxies.\\n\")\n",
        "    return random.choice(responses)\n",
        "\n",
        "  def answer_why_intent(self):\n",
        "    responses=(\"I come in peace\\n\", \"I am here to collect data on your planet and its inhabitants\\n\",\n",
        "               \"I heard the coffee is good\\n\")\n",
        "    return random.choice(responses)\n",
        "\n",
        "  def about_me(self):\n",
        "    responses=(\"Intellipat is world's largest professional company.\\n\",\n",
        "               \"Intelipat is where your skills and career grows.\\n\")\n",
        "    return random.choice(responses)\n",
        "\n",
        "  def no_match_intent(self):\n",
        "    responses=(\"Please tell me more\\n\", \"Tell me more\\n\", \"Why do you say that?\\n\", \"I see can you elaborate?\\n\",\n",
        "               \"Interesting can you tell me more?\\n\", \"I see, how do you think?\\n\",\"Ohk I can understand !\",\n",
        "               \"why?\\n\",\"How do you think i feel when you say that?\\n\",\"Do you want to tell more?\",\"May I know how was your day?\")\n",
        "    return random.choice(responses)\n",
        "\n",
        "AlienBot=Rulebot()\n",
        "AlienBot.greet()\n"
      ],
      "metadata": {
        "colab": {
          "base_uri": "https://localhost:8080/"
        },
        "id": "5F8aRD-okX2K",
        "outputId": "9bda5eb5-fe4e-4a9f-f454-bb0f89a79726"
      },
      "execution_count": null,
      "outputs": [
        {
          "name": "stdout",
          "output_type": "stream",
          "text": [
            "What is your name?\n",
            "Arbaaz\n",
            "Hi Arbaaz, I am a Rule-Bot. Will You tell me more about your Yourself?\n",
            "i am nerd\n",
            "What do you like to eat?yes\n"
          ]
        }
      ]
    },
    {
      "cell_type": "code",
      "source": [],
      "metadata": {
        "id": "cnZ47xDXnnFC"
      },
      "execution_count": null,
      "outputs": []
    }
  ]
}